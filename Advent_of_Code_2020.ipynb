{
  "nbformat": 4,
  "nbformat_minor": 0,
  "metadata": {
    "colab": {
      "name": "Advent of Code 2020.ipynb",
      "provenance": [],
      "collapsed_sections": [],
      "authorship_tag": "ABX9TyMLs59U3Wm4/c3Dvl+eoQau"
    },
    "kernelspec": {
      "name": "python3",
      "display_name": "Python 3"
    }
  },
  "cells": [
    {
      "cell_type": "code",
      "metadata": {
        "id": "hIUuFKiNOu7n"
      },
      "source": [
        "import numpy as np\r\n",
        "import csv\r\n",
        "from day1 import *\r\n",
        "from day2 import *"
      ],
      "execution_count": null,
      "outputs": []
    },
    {
      "cell_type": "code",
      "metadata": {
        "colab": {
          "base_uri": "https://localhost:8080/"
        },
        "id": "_DT_Z8lJVSBU",
        "outputId": "61ccb05d-bcb9-4a1b-8087-7233902ebec2"
      },
      "source": [
        "#Day 1 solutions\r\n",
        "challenge1_2in(BenInput,\"Ben\")\r\n",
        "challenge1_3in(BenInput,\"Ben\")\r\n",
        "challenge1_2in(JamesInput,\"James\")\r\n",
        "challenge1_3in(JamesInput,\"James\")"
      ],
      "execution_count": null,
      "outputs": [
        {
          "output_type": "stream",
          "text": [
            "691771 Ben\n",
            "232508760 Ben\n",
            "100419 James\n",
            "265253940 James\n"
          ],
          "name": "stdout"
        }
      ]
    },
    {
      "cell_type": "code",
      "metadata": {
        "id": "GsvOnsTJVU8P"
      },
      "source": [
        "#Day 2 solutions"
      ],
      "execution_count": null,
      "outputs": []
    }
  ]
}